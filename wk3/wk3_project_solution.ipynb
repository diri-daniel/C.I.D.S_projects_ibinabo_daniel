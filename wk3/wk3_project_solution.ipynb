{
 "cells": [
  {
   "cell_type": "code",
   "execution_count": 110,
   "metadata": {},
   "outputs": [],
   "source": [
    "import numpy as np\n",
    "from random import randint as rand\n",
    "from math import sqrt\n",
    "from matplotlib import pyplot as plt\n",
    "\n",
    "def data_gen():\n",
    "    data_set = np.random.randint(20, 70, size=(20))\n",
    "    mean = np.mean(data_set)\n",
    "    median = np.median(data_set)\n",
    "    variance = np.var(data_set)\n",
    "    st_d = np.std(data_set)\n",
    "    minimum = np.min(data_set)\n",
    "    maximum = np.max(data_set)\n",
    "    \n",
    "    return {\"Data\": data_set, \"Maximum\": maximum, \"Minimum\": minimum, \"Mean\": mean, \"Median\": median, \"variance\": variance, \"Standard deviation\": st_d}"
   ]
  },
  {
   "cell_type": "code",
   "execution_count": 111,
   "metadata": {},
   "outputs": [
    {
     "name": "stdout",
     "output_type": "stream",
     "text": [
      "{'Data': array([36, 39, 46, 59, 26, 40, 31, 41, 53, 62, 42, 35, 62, 21, 37, 26, 33,\n",
      "       54, 67, 29]), 'Maximum': 67, 'Minimum': 21, 'Mean': 41.95, 'Median': 39.5, 'variance': 172.14749999999998, 'Standard deviation': 13.120499228306825}\n"
     ]
    }
   ],
   "source": [
    "data_dict = data_gen()\n",
    "print(data_dict)"
   ]
  },
  {
   "cell_type": "code",
   "execution_count": 112,
   "metadata": {},
   "outputs": [],
   "source": [
    "def comp_z_scores(d_dict):\n",
    "    less_than_mean = 0\n",
    "    z_scores = []\n",
    "    \n",
    "    for x in d_dict[\"Data\"]:\n",
    "        if x < d_dict[\"Mean\"]:\n",
    "            less_than_mean += 1\n",
    "        z_scores.append((x-d_dict[\"Mean\"])/d_dict[\"Standard deviation\"])\n",
    "        \n",
    "    z_scores = np.array(z_scores)\n",
    "    \n",
    "    d_dict[\"Z-scores\"] = z_scores\n",
    "    \n",
    "    print(f'The number of values less than the mean is {less_than_mean}.')\n",
    "    \n",
    "    if np.max(z_scores) <= 3 and np.min(z_scores) >= -3:\n",
    "        print(\"The z-scores are between -3 and 3.\")\n",
    "    else:\n",
    "        print(\"The z-scores are not between -3 and 3.\")\n",
    "        \n",
    "    print(f'The z-scores are {z_scores}')\n",
    "        \n",
    "            "
   ]
  },
  {
   "cell_type": "code",
   "execution_count": 113,
   "metadata": {},
   "outputs": [
    {
     "name": "stdout",
     "output_type": "stream",
     "text": [
      "The number of values less than the mean is 12.\n",
      "The z-scores are between -3 and 3.\n",
      "The z-scores are [-0.45348884 -0.22483901  0.30867728  1.29949324 -1.21565496 -0.14862239\n",
      " -0.8345719  -0.07240578  0.84219356  1.52814307  0.00381083 -0.52970545\n",
      "  1.52814307 -1.59673802 -0.37727223 -1.21565496 -0.68213868  0.91841018\n",
      "  1.90922613 -0.98700513]\n"
     ]
    }
   ],
   "source": [
    "comp_z_scores(data_dict)"
   ]
  },
  {
   "cell_type": "code",
   "execution_count": 114,
   "metadata": {},
   "outputs": [
    {
     "name": "stdout",
     "output_type": "stream",
     "text": [
      "The boxplot helps indicate the areas where there is a large cluster of data is shows a more accurate distribution of data \n",
      "than the measures of central tendency.\n",
      "It has 7 main parts:\n",
      "The 'maximum' and 'minimum'.\n",
      "The first quartile or 25th percentile.\n",
      "The third quartile or 75th percentile.\n",
      "The median or second quatile (shown by the yellow line).\n",
      "The interquatile range 25th to 75th percentile (which is the box).\n",
      "\n"
     ]
    },
    {
     "data": {
      "image/png": "[encoded data removed]",
      "text/plain": [
       "<Figure size 432x288 with 1 Axes>"
      ]
     },
     "metadata": {
      "needs_background": "light"
     },
     "output_type": "display_data"
    }
   ],
   "source": [
    "plt.boxplot(data_dict[\"Data\"])\n",
    "plt.show\n",
    "print(\"The boxplot helps indicate the areas where there is a large cluster of data is shows a more accurate distribution of data \\nthan the measures of central tendency.\")\n",
    "print(\"It has 7 main parts:\")\n",
    "print(\"The 'maximum' and 'minimum'.\")\n",
    "print(\"The first quartile or 25th percentile.\")\n",
    "print(\"The third quartile or 75th percentile.\")\n",
    "print(\"The median or second quatile (shown by the yellow line).\")\n",
    "print(\"The interquatile range 25th to 75th percentile (which is the box).\")\n",
    "print(\"The two whiskers.\")"
   ]
  },
  {
   "cell_type": "code",
   "execution_count": 116,
   "metadata": {},
   "outputs": [
    {
     "name": "stdout",
     "output_type": "stream",
     "text": [
      "It also has outliers which are extreme values in the data set (as show by the circle).\n"
     ]
    },
    {
     "data": {
      "image/png": "[encoded data removed]",
      "text/plain": [
       "<Figure size 432x288 with 1 Axes>"
      ]
     },
     "metadata": {
      "needs_background": "light"
     },
     "output_type": "display_data"
    }
   ],
   "source": [
    "data_dict[\"Data\"][15] = 270\n",
    "plt.boxplot(data_dict[\"Data\"])\n",
    "plt.show\n",
    "print(\"It also has outliers which are extreme values in the data set (as show by the circle).\")"
   ]
  },
  {
   "cell_type": "code",
   "execution_count": null,
   "metadata": {},
   "outputs": [],
   "source": []
  }
 ],
 "metadata": {
  "kernelspec": {
   "display_name": "Python 3",
   "language": "python",
   "name": "python3"
  },
  "language_info": {
   "codemirror_mode": {
    "name": "ipython",
    "version": 3
   },
   "file_extension": ".py",
   "mimetype": "text/x-python",
   "name": "python",
   "nbconvert_exporter": "python",
   "pygments_lexer": "ipython3",
   "version": "3.8.5"
  }
 },
 "nbformat": 4,
 "nbformat_minor": 4
}
